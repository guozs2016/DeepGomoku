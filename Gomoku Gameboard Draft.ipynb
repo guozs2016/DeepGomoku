{
 "cells": [
  {
   "cell_type": "code",
   "execution_count": 1,
   "metadata": {},
   "outputs": [],
   "source": [
    "import numpy as np\n",
    "from scipy.signal import convolve2d"
   ]
  },
  {
   "cell_type": "code",
   "execution_count": 2,
   "metadata": {},
   "outputs": [],
   "source": [
    "class gomoku():\n",
    "    def __init__(self):\n",
    "        self.gameBoard = np.zeros((15*15,1))\n",
    "    def blackMove(self,place): #move of black player\n",
    "        if self.gameBoard[place] != 0:\n",
    "            raise Exception(\"A stone has been put in this place!\")\n",
    "        else:\n",
    "            self.gameBoard[place] = 1\n",
    "    def whiteMove(self,place): #move of white player\n",
    "        if self.gameBoard[place] != 0:\n",
    "            raise Exception(\"A stone has been put in this place!\")\n",
    "        else:\n",
    "            self.gameBoard[place] = -1\n",
    "    def getGameBoard(self):\n",
    "        return self.gameBoard\n",
    "g\n",
    "    \"\"\"set up a new game, to be updated with pygame imported\n",
    "    \"\"\"\n",
    "    def newgame(self):\n",
    "        self.gameBoard = np.zeros((15*15,1))\n",
    "\n",
    "def boardToArray(placeInBoard): #placeInBard: argument Type:tuple --- (place in rows,place in columns) range from (0,15))\n",
    "    return placeInBoard[0]*15+placeInBoard[1]\n",
    "def arrayToBoard(placeInArray): #placeInArray argument Type:Int --- place in array range from (0,225)\n",
    "    return (placeInArray//15,placeInArray%15)  "
   ]
  },
  {
   "cell_type": "code",
   "execution_count": 8,
   "metadata": {},
   "outputs": [],
   "source": [
    "a = gomoku()\n",
    "a.whiteMove(0)\n",
    "a.whiteMove(1)\n",
    "a.whiteMove(2)\n",
    "a.whiteMove(3)\n",
    "a.whiteMove(4)"
   ]
  },
  {
   "cell_type": "code",
   "execution_count": 9,
   "metadata": {},
   "outputs": [
    {
     "data": {
      "text/plain": [
       "array([[0, 1, 0, 0]])"
      ]
     },
     "execution_count": 9,
     "metadata": {},
     "output_type": "execute_result"
    }
   ],
   "source": [
    "a.gameCondition()"
   ]
  },
  {
   "cell_type": "code",
   "execution_count": null,
   "metadata": {},
   "outputs": [],
   "source": []
  }
 ],
 "metadata": {
  "kernelspec": {
   "display_name": "Python 3",
   "language": "python",
   "name": "python3"
  },
  "language_info": {
   "codemirror_mode": {
    "name": "ipython",
    "version": 3
   },
   "file_extension": ".py",
   "mimetype": "text/x-python",
   "name": "python",
   "nbconvert_exporter": "python",
   "pygments_lexer": "ipython3",
   "version": "3.7.1"
  }
 },
 "nbformat": 4,
 "nbformat_minor": 2
}
