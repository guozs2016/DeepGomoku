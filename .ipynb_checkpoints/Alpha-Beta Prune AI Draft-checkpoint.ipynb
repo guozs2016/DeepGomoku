{
 "cells": [
  {
   "cell_type": "code",
   "execution_count": 5,
   "metadata": {},
   "outputs": [],
   "source": [
    "import gomoku\n",
    "import numpy as np\n",
    "import pandas as pd\n",
    "import random as rd\n",
    "from scipy.signal import convolve2d"
   ]
  },
  {
   "cell_type": "code",
   "execution_count": 6,
   "metadata": {},
   "outputs": [],
   "source": [
    "class ABPruneAI():\n",
    "    def __init__(self,ID=0,playerColor='Black',name = 'Alpha-Beta Prune AI'):\n",
    "        self.ID = ID\n",
    "        self.name = name\n",
    "        self.playerColor = playerColor.strip().lower()\n",
    "    def set_ID(self,ID):\n",
    "        self.ID = ID\n",
    "    def get_ID(self):\n",
    "        return self.ID\n",
    "    def set_player_color(self,color):\n",
    "        if color.strip().lower()=='black':\n",
    "            self.playerColor = 'black'\n",
    "        elif color.strip().lower()=='white':\n",
    "            self.playerColor = 'white'\n",
    "        else:\n",
    "            raise Exception(\"Invalid color\")\n",
    "    def get_player_color(self):\n",
    "        return self.playerColor\n",
    "    def set_name(self,name):\n",
    "        self.name = name\n",
    "    def get_name(self):\n",
    "        return self.name\n",
    "    '''\n",
    "    def play(self,gomokuboard):\n",
    "        moveBoard = gomokuboard.get_valid_move()\n",
    "        movePosition = rd.choice(np.where(np.array(moveBoard) == 1)[0])\n",
    "        return self.playerColor,movePosition\n",
    "    '''\n",
    "    def find_five_in_a_row(self,gomokuboard):\n",
    "        black_five_row = []\n",
    "        white_five_row = []\n",
    "        validMove = currentBoard.get_valid_move()\n",
    "        moveList = np.where(validMove==1)[0]\n",
    "        for move in moveList:\n",
    "            potentialBoard = gomoku.GomokuBoard()\n",
    "            potentialBoard.set_board(currentBoard.get_board())\n",
    "            potentialBoard.move_white(move)\n",
    "            if np.array_equal(potentialBoard.get_game_condition(),np.array([0.,1.,0.,0.]).reshape(1,4)):\n",
    "                white_five_row.append(move)\n",
    "            currentBoard.get_board()[move]=[0.]\n",
    "            potentialBoard.set_board(currentBoard.get_board())\n",
    "            potentialBoard.move_black(move)\n",
    "            if np.array_equal(potentialBoard.get_game_condition(),np.array([1.,0.,0.,0.]).reshape(1,4)):\n",
    "                black_five_row.append(move)\n",
    "            currentBoard.get_board()[move]=[0.]\n",
    "        black_five_row = np.array(black_five_row)\n",
    "        white_five_row = np.array(white_five_row)\n",
    "        return black_five_row,white_five_row\n",
    "    def find_live_four(self,gomokuboard):\n",
    "        black_live_four = []\n",
    "        white_live_four = []\n",
    "        validMove = currentBoard.get_valid_move()\n",
    "        moveList = np.where(validMove==1)[0]"
   ]
  },
  {
   "cell_type": "code",
   "execution_count": 58,
   "metadata": {},
   "outputs": [
    {
     "name": "stdout",
     "output_type": "stream",
     "text": [
      "[]\n",
      "[]\n"
     ]
    }
   ],
   "source": [
    "currentBoard = gomoku.GomokuBoard()\n",
    "currentBoard.move_white(gomoku.board_to_array((0,0)))\n",
    "currentBoard.move_white(gomoku.board_to_array((0,1)))\n",
    "currentBoard.move_white(gomoku.board_to_array((0,2)))\n",
    "currentBoard.move_black(gomoku.board_to_array((1,0)))\n",
    "currentBoard.move_black(gomoku.board_to_array((1,1)))\n",
    "currentBoard.move_black(gomoku.board_to_array((1,2)))\n",
    "currentBoard.move_black(gomoku.board_to_array((2,0)))\n",
    "currentBoard.move_black(gomoku.board_to_array((2,1)))\n",
    "currentBoard.move_black(gomoku.board_to_array((2,2)))\n",
    "black_live_four = []\n",
    "white_live_four = []\n",
    "validMove = currentBoard.get_valid_move()\n",
    "moveList = np.where(validMove==1)[0]\n",
    "for move in moveList:\n",
    "    potentialBoard = gomoku.GomokuBoard()\n",
    "    potentialBoard.set_board(currentBoard.get_board())\n",
    "    potentialBoard.move_white(move)\n",
    "    if np.array_equal(potentialBoard.get_game_condition(),np.array([0.,1.,0.,0.]).reshape(1,4)):\n",
    "        white_five_row.append(move)\n",
    "    currentBoard.get_board()[move]=[0.]\n",
    "    potentialBoard.set_board(currentBoard.get_board())\n",
    "    potentialBoard.move_black(move)\n",
    "    if np.array_equal(potentialBoard.get_game_condition(),np.array([1.,0.,0.,0.]).reshape(1,4)):\n",
    "        black_five_row.append(move)\n",
    "    currentBoard.get_board()[move]=[0.]\n",
    "black_five_row = np.array(black_five_row)\n",
    "white_five_row = np.array(white_five_row)\n",
    "print (black_five_row)\n",
    "print (white_five_row)"
   ]
  },
  {
   "cell_type": "code",
   "execution_count": 27,
   "metadata": {},
   "outputs": [],
   "source": [
    "a = [1,2,3]"
   ]
  },
  {
   "cell_type": "code",
   "execution_count": 28,
   "metadata": {},
   "outputs": [],
   "source": [
    "b = a"
   ]
  },
  {
   "cell_type": "code",
   "execution_count": 29,
   "metadata": {},
   "outputs": [],
   "source": [
    "b.append(4)"
   ]
  },
  {
   "cell_type": "code",
   "execution_count": 30,
   "metadata": {},
   "outputs": [
    {
     "data": {
      "text/plain": [
       "[1, 2, 3, 4]"
      ]
     },
     "execution_count": 30,
     "metadata": {},
     "output_type": "execute_result"
    }
   ],
   "source": [
    "b"
   ]
  },
  {
   "cell_type": "code",
   "execution_count": 31,
   "metadata": {},
   "outputs": [
    {
     "data": {
      "text/plain": [
       "[1, 2, 3, 4]"
      ]
     },
     "execution_count": 31,
     "metadata": {},
     "output_type": "execute_result"
    }
   ],
   "source": [
    "a"
   ]
  },
  {
   "cell_type": "code",
   "execution_count": null,
   "metadata": {},
   "outputs": [],
   "source": []
  }
 ],
 "metadata": {
  "kernelspec": {
   "display_name": "Python 3",
   "language": "python",
   "name": "python3"
  },
  "language_info": {
   "codemirror_mode": {
    "name": "ipython",
    "version": 3
   },
   "file_extension": ".py",
   "mimetype": "text/x-python",
   "name": "python",
   "nbconvert_exporter": "python",
   "pygments_lexer": "ipython3",
   "version": "3.7.3"
  }
 },
 "nbformat": 4,
 "nbformat_minor": 2
}
