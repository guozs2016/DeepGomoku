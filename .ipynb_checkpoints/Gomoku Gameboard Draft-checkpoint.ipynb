{
 "cells": [
  {
   "cell_type": "code",
   "execution_count": 1,
   "metadata": {},
   "outputs": [],
   "source": [
    "import numpy as np\n",
    "from scipy.signal import convolve2d"
   ]
  },
  {
   "cell_type": "code",
   "execution_count": 5,
   "metadata": {},
   "outputs": [],
   "source": [
    "class gomoku():\n",
    "    def __init__(self):\n",
    "        self.gameBoard = np.zeros((15*15,1))\n",
    "    def blackMove(self,place): #move of black player\n",
    "        if self.gameBoard[place] != 0:\n",
    "            raise Exception(\"A stone has been put in this place!\")\n",
    "        else:\n",
    "            self.gameBoard[place] = 1\n",
    "    def whiteMove(self,place): #move of white player\n",
    "        if self.gameBoard[place] != 0:\n",
    "            raise Exception(\"A stone has been put in this place!\")\n",
    "        else:\n",
    "            self.gameBoard[place] = -1\n",
    "    def getGameBoard(self):\n",
    "        return self.gameBoard\n",
    "    def gameCondition(self):\n",
    "        m = self.getGameBoard().reshape((15,15))\n",
    "        horizontal = np.array([1,1,1,1,1]).reshape(1,5)\n",
    "        vertical = np.array([1,1,1,1,1]).reshape(5,1)\n",
    "        identity = np.eye(5)\n",
    "        exchange = np.fliplr(identity)\n",
    "        b = convolve2d(m,horizontal,mode=\"valid\")\n",
    "        c = convolve2d(m,vertical,mode='valid')\n",
    "        d = convolve2d(m,identity,mode='valid')\n",
    "        e = convolve2d(m,exchange,mode='valid')\n",
    "        if (5 in b or 5 in c or 5 in d or 5 in e):\n",
    "            return np.array([1,0,0,0]).reshape(1,4)\n",
    "        elif (-5 in b or -5 in c or -5 in d or -5 in e):\n",
    "            return np.array([0,1,0,0]).reshape(1,4)\n",
    "        elif 0 not in m:\n",
    "            return np.array([0,0,1,0]).reshape(1,4)\n",
    "        else:\n",
    "            return np.array([0,0,0,1]).reshape(1,4)\n",
    "    \"\"\"set up a new game, to be updated with pygame imported\n",
    "    \"\"\"\n",
    "    def newgame(self):\n",
    "        self.gameBoard = np.zeros((15*15,1))\n",
    "\n",
    "def boardToArray(placeInBoard): #placeInBard: argument Type:tuple --- (place in rows,place in columns) range from (0,15))\n",
    "    return placeInBoard[0]*15+placeInBoard[1]\n",
    "def arrayToBoard(placeInArray): #placeInArray argument Type:Int --- place in array range from (0,225)\n",
    "    return (placeInArray//15,placeInArray%15)  "
   ]
  },
  {
   "cell_type": "code",
   "execution_count": 6,
   "metadata": {},
   "outputs": [],
   "source": [
    "a = gomoku()"
   ]
  },
  {
   "cell_type": "code",
   "execution_count": 7,
   "metadata": {},
   "outputs": [
    {
     "ename": "NameError",
     "evalue": "name 'diagonal' is not defined",
     "output_type": "error",
     "traceback": [
      "\u001b[1;31m---------------------------------------------------------------------------\u001b[0m",
      "\u001b[1;31mNameError\u001b[0m                                 Traceback (most recent call last)",
      "\u001b[1;32m<ipython-input-7-99eff84c2b47>\u001b[0m in \u001b[0;36m<module>\u001b[1;34m\u001b[0m\n\u001b[1;32m----> 1\u001b[1;33m \u001b[0ma\u001b[0m\u001b[1;33m.\u001b[0m\u001b[0mgameCondition\u001b[0m\u001b[1;33m(\u001b[0m\u001b[1;33m)\u001b[0m\u001b[1;33m\u001b[0m\u001b[1;33m\u001b[0m\u001b[0m\n\u001b[0m",
      "\u001b[1;32m<ipython-input-5-bf3811a08298>\u001b[0m in \u001b[0;36mgameCondition\u001b[1;34m(self)\u001b[0m\n\u001b[0;32m     22\u001b[0m         \u001b[0mb\u001b[0m \u001b[1;33m=\u001b[0m \u001b[0mconvolve2d\u001b[0m\u001b[1;33m(\u001b[0m\u001b[0mm\u001b[0m\u001b[1;33m,\u001b[0m\u001b[0mhorizontal\u001b[0m\u001b[1;33m,\u001b[0m\u001b[0mmode\u001b[0m\u001b[1;33m=\u001b[0m\u001b[1;34m\"valid\"\u001b[0m\u001b[1;33m)\u001b[0m\u001b[1;33m\u001b[0m\u001b[1;33m\u001b[0m\u001b[0m\n\u001b[0;32m     23\u001b[0m         \u001b[0mc\u001b[0m \u001b[1;33m=\u001b[0m \u001b[0mconvolve2d\u001b[0m\u001b[1;33m(\u001b[0m\u001b[0mm\u001b[0m\u001b[1;33m,\u001b[0m\u001b[0mvertical\u001b[0m\u001b[1;33m,\u001b[0m\u001b[0mmode\u001b[0m\u001b[1;33m=\u001b[0m\u001b[1;34m'valid'\u001b[0m\u001b[1;33m)\u001b[0m\u001b[1;33m\u001b[0m\u001b[1;33m\u001b[0m\u001b[0m\n\u001b[1;32m---> 24\u001b[1;33m         \u001b[0md\u001b[0m \u001b[1;33m=\u001b[0m \u001b[0mconvolve2d\u001b[0m\u001b[1;33m(\u001b[0m\u001b[0mm\u001b[0m\u001b[1;33m,\u001b[0m\u001b[0mdiagonal\u001b[0m\u001b[1;33m,\u001b[0m\u001b[0mmode\u001b[0m\u001b[1;33m=\u001b[0m\u001b[1;34m'valid'\u001b[0m\u001b[1;33m)\u001b[0m\u001b[1;33m\u001b[0m\u001b[1;33m\u001b[0m\u001b[0m\n\u001b[0m\u001b[0;32m     25\u001b[0m         \u001b[0me\u001b[0m \u001b[1;33m=\u001b[0m \u001b[0mconvolve2d\u001b[0m\u001b[1;33m(\u001b[0m\u001b[0mm\u001b[0m\u001b[1;33m,\u001b[0m\u001b[0mexchange\u001b[0m\u001b[1;33m,\u001b[0m\u001b[0mmode\u001b[0m\u001b[1;33m=\u001b[0m\u001b[1;34m'valid'\u001b[0m\u001b[1;33m)\u001b[0m\u001b[1;33m\u001b[0m\u001b[1;33m\u001b[0m\u001b[0m\n\u001b[0;32m     26\u001b[0m         \u001b[1;32mif\u001b[0m \u001b[1;33m(\u001b[0m\u001b[1;36m5\u001b[0m \u001b[1;32min\u001b[0m \u001b[0mb\u001b[0m \u001b[1;32mor\u001b[0m \u001b[1;36m5\u001b[0m \u001b[1;32min\u001b[0m \u001b[0mc\u001b[0m \u001b[1;32mor\u001b[0m \u001b[1;36m5\u001b[0m \u001b[1;32min\u001b[0m \u001b[0md\u001b[0m \u001b[1;32mor\u001b[0m \u001b[1;36m5\u001b[0m \u001b[1;32min\u001b[0m \u001b[0me\u001b[0m\u001b[1;33m)\u001b[0m\u001b[1;33m:\u001b[0m\u001b[1;33m\u001b[0m\u001b[1;33m\u001b[0m\u001b[0m\n",
      "\u001b[1;31mNameError\u001b[0m: name 'diagonal' is not defined"
     ]
    }
   ],
   "source": [
    "a.gameCondition()"
   ]
  },
  {
   "cell_type": "code",
   "execution_count": null,
   "metadata": {},
   "outputs": [],
   "source": []
  }
 ],
 "metadata": {
  "kernelspec": {
   "display_name": "Python 3",
   "language": "python",
   "name": "python3"
  },
  "language_info": {
   "codemirror_mode": {
    "name": "ipython",
    "version": 3
   },
   "file_extension": ".py",
   "mimetype": "text/x-python",
   "name": "python",
   "nbconvert_exporter": "python",
   "pygments_lexer": "ipython3",
   "version": "3.7.1"
  }
 },
 "nbformat": 4,
 "nbformat_minor": 2
}
