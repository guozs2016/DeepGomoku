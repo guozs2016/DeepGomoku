{
 "cells": [
  {
   "cell_type": "code",
   "execution_count": 11,
   "metadata": {},
   "outputs": [],
   "source": [
    "import randomAI\n",
    "import numpy as np\n",
    "import pandas as pd\n",
    "from scipy.signal import convolve2d\n",
    "\n",
    "class GomokuBoard(object):\n",
    "    \"\"\"Set up gomuku game with a (225,1) vector\n",
    "    \"\"\"\n",
    "    def __init__(self):\n",
    "        self.__board = np.zeros((15*15,1))\n",
    "    def initialize_board(self):\n",
    "        self.__board = np.zeros((15*15,1))\n",
    "    def set_board(self,newboard):\n",
    "        self.__board = newboard\n",
    "    def get_board(self):\n",
    "        return self.__board\n",
    "    \"\"\"Get a valid move from the gameboard. Once a stone has been put, it can't\n",
    "       be removed or replaced by another stone.\n",
    "       return a (15*15,1) array with 1 means valid and 0 means invalid\n",
    "    \"\"\"\n",
    "    def get_valid_move(self):\n",
    "        move = np.zeros((15*15,1))\n",
    "        for i in range(15*15):\n",
    "            if self.__board[i] == 0:\n",
    "                move[i] = 1\n",
    "        return move\n",
    "    \"\"\"Move of player, set 1 for black and -1 for white in a gameboard position\n",
    "\n",
    "    raise error put stone in placed position\n",
    "    \"\"\"\n",
    "    def move_black(self,place):\n",
    "        if self.__board[place] != 0:\n",
    "            raise Exception(\"A stone has been put in this place!\")\n",
    "        else:\n",
    "            self.__board[place] = 1\n",
    "    def move_white(self,place):\n",
    "        if self.__board[place] != 0:\n",
    "            raise Exception(\"A stone has been put in this place!\")\n",
    "        else:\n",
    "            self.__board[place] = -1\n",
    "    \"\"\"Use convolution calculation to find game condition,\n",
    "    Condition is a (4,1) vector represent:\n",
    "     (if black player wins,\n",
    "      if white player wins,\n",
    "      if draw,\n",
    "      if game is not finished)\n",
    "    \"\"\"\n",
    "    def get_game_condition(self):\n",
    "        m = self.get_board().reshape((15,15))\n",
    "        horizontal = np.array([1,1,1,1,1]).reshape(1,5)\n",
    "        vertical = np.array([1,1,1,1,1]).reshape(5,1)\n",
    "        identity = np.eye(5)\n",
    "        exchange = np.fliplr(identity)\n",
    "        b = convolve2d(m,horizontal,mode=\"valid\")#5 stones in one row\n",
    "        c = convolve2d(m,vertical,mode='valid')#5 stones in one column\n",
    "        d = convolve2d(m,identity,mode='valid')\n",
    "        #5 stones from upper left to bottom right\n",
    "        e = convolve2d(m,exchange,mode='valid')\n",
    "        #5 stones from supper right to bottom left\n",
    "        if (5 in b or 5 in c or 5 in d or 5 in e):\n",
    "            return np.array([1,0,0,0]).reshape(1,4)\n",
    "        elif (-5 in b or -5 in c or -5 in d or -5 in e):\n",
    "            return np.array([0,1,0,0]).reshape(1,4)\n",
    "        elif 0 not in m:\n",
    "            return np.array([0,0,1,0]).reshape(1,4)\n",
    "        else:\n",
    "            return np.array([0,0,0,1]).reshape(1,4)\n",
    "class GomokuAIPlay(object):\n",
    "    def __init__(self,player1=randomAI.RandomAI(1,\"black\",\"randomAIOne\"),player2=randomAI.RandomAI(1,\"white\",\"randomAITwo\")):\n",
    "        self.player1 = player1\n",
    "        self.player2 = player2\n",
    "        self.step = 0\n",
    "        self.__gameBoard = GomokuBoard()\n",
    "        self.result = np.zeros((1,4),dtype = int)\n",
    "    \"\"\"set up a new game, to be updated with pygame imported\n",
    "    \"\"\"\n",
    "    def set_new_game(self):\n",
    "        self.__gameBoard.initialize_board()\n",
    "    def play_one_round(self):\n",
    "        while True\n",
    "    \"\"\"two functions to exchange board and a place in gameboard array\n",
    "   tuple --- (place in rows,place in columns) range from (0,15))\n",
    "   place in array --- int range from (0,225)\n",
    "\"\"\"\n",
    "def board_to_array(placeinboard):\n",
    "    return placeinboard[0]*15+placeinboard[1]\n",
    "def array_to_board(placeinarray):\n",
    "    return (placeinarray//15,placeinarray%15)\n"
   ]
  },
  {
   "cell_type": "code",
   "execution_count": 28,
   "metadata": {},
   "outputs": [
    {
     "data": {
      "text/plain": [
       "array([[1, 0, 0, 0]])"
      ]
     },
     "execution_count": 28,
     "metadata": {},
     "output_type": "execute_result"
    }
   ],
   "source": [
    "np.array([1,0,0,0]).reshape(1,4)"
   ]
  },
  {
   "cell_type": "code",
   "execution_count": 30,
   "metadata": {},
   "outputs": [
    {
     "data": {
      "text/plain": [
       "array([[0, 0, 0, 0]])"
      ]
     },
     "execution_count": 30,
     "metadata": {},
     "output_type": "execute_result"
    }
   ],
   "source": [
    "np.zeros((1,4),dtype = int)"
   ]
  },
  {
   "cell_type": "code",
   "execution_count": null,
   "metadata": {},
   "outputs": [],
   "source": []
  }
 ],
 "metadata": {
  "kernelspec": {
   "display_name": "Python 3",
   "language": "python",
   "name": "python3"
  },
  "language_info": {
   "codemirror_mode": {
    "name": "ipython",
    "version": 3
   },
   "file_extension": ".py",
   "mimetype": "text/x-python",
   "name": "python",
   "nbconvert_exporter": "python",
   "pygments_lexer": "ipython3",
   "version": "3.7.3"
  }
 },
 "nbformat": 4,
 "nbformat_minor": 2
}
