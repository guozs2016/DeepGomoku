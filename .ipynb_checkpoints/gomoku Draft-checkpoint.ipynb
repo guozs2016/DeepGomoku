{
 "cells": [
  {
   "cell_type": "code",
   "execution_count": 1,
   "metadata": {},
   "outputs": [],
   "source": [
    "import numpy as np\n",
    "import pandas as pd\n",
    "from scipy.signal import convolve2d\n",
    "\n",
    "class gomoku():\n",
    "    \"\"\"Set up gomuku game with a (225,1) vector\n",
    "    \"\"\"\n",
    "    def __init__(self):\n",
    "        self.gameBoard = np.zeros((15*15,1))\n",
    "    def getGameBoard(self):\n",
    "        return self.gameBoard\n",
    "    def getValidMove(self):\n",
    "        move = np.zeros((15*15,1))\n",
    "        for i in range(15*15):\n",
    "            if self.gameBoard[i] == 0:\n",
    "                move[i] == 1\n",
    "        return move\n",
    "    \"\"\"Move of player, set 1 for black and -1 for white in a gameboard position\n",
    "\n",
    "    raise error put stone in placed position\n",
    "    \"\"\"\n",
    "    def blackMove(self,place):\n",
    "        if self.gameBoard[place] != 0:\n",
    "            raise Exception(\"A stone has been put in this place!\")\n",
    "        else:\n",
    "            self.gameBoard[place] = 1\n",
    "    def whiteMove(self,place):\n",
    "        if self.gameBoard[place] != 0:\n",
    "            raise Exception(\"A stone has been put in this place!\")\n",
    "        else:\n",
    "            self.gameBoard[place] = -1\n",
    "    \"\"\"set up a new game, to be updated with pygame imported\n",
    "    \"\"\"\n",
    "    def newgame(self):\n",
    "        self.gameBoard = np.zeros((15*15,1))\n",
    "\n",
    "    \"\"\"Use convolution calculation to find game condition,\n",
    "    Condition is a (4,1) vector represent:\n",
    "     (if black player wins,\n",
    "      if white player wins,\n",
    "      if draw,\n",
    "      if game is not finished)\n",
    "    \"\"\"\n",
    "    def gameCondition(self):\n",
    "        m = self.getGameBoard().reshape((15,15))\n",
    "        horizontal = np.array([1,1,1,1,1]).reshape(1,5)\n",
    "        vertical = np.array([1,1,1,1,1]).reshape(5,1)\n",
    "        identity = np.eye(5)\n",
    "        exchange = np.fliplr(identity)\n",
    "        b = convolve2d(m,horizontal,mode=\"valid\")#5 stones in one row\n",
    "        c = convolve2d(m,vertical,mode='valid')#5 stones in one column\n",
    "        d = convolve2d(m,identity,mode='valid')\n",
    "        #5 stones from upper left to bottom right\n",
    "        e = convolve2d(m,exchange,mode='valid')\n",
    "        #5 stones from supper right to bottom left\n",
    "        if (5 in b or 5 in c or 5 in d or 5 in e):\n",
    "            return np.array([1,0,0,0]).reshape(1,4)\n",
    "        elif (-5 in b or -5 in c or -5 in d or -5 in e):\n",
    "            return np.array([0,1,0,0]).reshape(1,4)\n",
    "        elif 0 not in m:\n",
    "            return np.array([0,0,1,0]).reshape(1,4)\n",
    "        else:\n",
    "            return np.array([0,0,0,1]).reshape(1,4)\n",
    "\"\"\"two functions to exchange board and a place in gameboard array\n",
    "   tuple --- (place in rows,place in columns) range from (0,15))\n",
    "   place in array --- int range from (0,225)\n",
    "\"\"\"\n",
    "def boardToArray(placeInBoard):\n",
    "    return placeInBoard[0]*15+placeInBoard[1]\n",
    "def arrayToBoard(placeInArray):\n",
    "    return (placeInArray//15,placeInArray%15)\n"
   ]
  },
  {
   "cell_type": "code",
   "execution_count": 4,
   "metadata": {},
   "outputs": [],
   "source": [
    "a = gomoku()"
   ]
  },
  {
   "cell_type": "code",
   "execution_count": 5,
   "metadata": {},
   "outputs": [
    {
     "ename": "AttributeError",
     "evalue": "'gomoku' object has no attribute 'getPossibleMove'",
     "output_type": "error",
     "traceback": [
      "\u001b[1;31m---------------------------------------------------------------------------\u001b[0m",
      "\u001b[1;31mAttributeError\u001b[0m                            Traceback (most recent call last)",
      "\u001b[1;32m<ipython-input-5-041308e724d9>\u001b[0m in \u001b[0;36m<module>\u001b[1;34m\u001b[0m\n\u001b[1;32m----> 1\u001b[1;33m \u001b[0ma\u001b[0m\u001b[1;33m.\u001b[0m\u001b[0mgetPossibleMove\u001b[0m\u001b[1;33m(\u001b[0m\u001b[1;33m)\u001b[0m\u001b[1;33m\u001b[0m\u001b[1;33m\u001b[0m\u001b[0m\n\u001b[0m",
      "\u001b[1;31mAttributeError\u001b[0m: 'gomoku' object has no attribute 'getPossibleMove'"
     ]
    }
   ],
   "source": [
    "a.getPossibleMove()"
   ]
  },
  {
   "cell_type": "code",
   "execution_count": null,
   "metadata": {},
   "outputs": [],
   "source": []
  }
 ],
 "metadata": {
  "kernelspec": {
   "display_name": "Python 3",
   "language": "python",
   "name": "python3"
  },
  "language_info": {
   "codemirror_mode": {
    "name": "ipython",
    "version": 3
   },
   "file_extension": ".py",
   "mimetype": "text/x-python",
   "name": "python",
   "nbconvert_exporter": "python",
   "pygments_lexer": "ipython3",
   "version": "3.7.3"
  }
 },
 "nbformat": 4,
 "nbformat_minor": 2
}
