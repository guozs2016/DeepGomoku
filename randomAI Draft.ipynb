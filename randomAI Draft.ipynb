{
 "cells": [
  {
   "cell_type": "code",
   "execution_count": 1,
   "metadata": {},
   "outputs": [],
   "source": [
    "import gomoku\n",
    "import numpy as np\n",
    "import pandas as pd\n",
    "import random as rd"
   ]
  },
  {
   "cell_type": "code",
   "execution_count": 2,
   "metadata": {},
   "outputs": [],
   "source": [
    "class RandomAI():\n",
    "    def __init__(self,ID=0,playerColor='Black',name = 'RandomAI'):\n",
    "        self.ID = ID\n",
    "        self.name = name\n",
    "        self.playerColor = playerColor.strip().lower()\n",
    "    def play(self,gomokuboard):\n",
    "        moveBoard = gomokuboard.get_valid_move()\n",
    "        movePosition = rd.choice(np.where(np.array(moveBoard) == 1)[0])\n",
    "        return self.playerColor,movePosition\n",
    "    def set_ID(self,ID):\n",
    "        self.ID = ID\n",
    "    def get_ID(self):\n",
    "        return self.ID\n",
    "    def set_player_color(self,color):\n",
    "        if color.strip().lower()=='black':\n",
    "            self.playerColor = 'black'\n",
    "        elif color.strip().lower()=='white':\n",
    "            self.playerColor = 'white'\n",
    "        else:\n",
    "            raise Exception(\"Invalid color\")\n",
    "    def get_player_color(self):\n",
    "        return self.playerColor\n",
    "    def set_name(self,name):\n",
    "        self.name = name\n",
    "    def get_name(self):\n",
    "        return self.name"
   ]
  },
  {
   "cell_type": "code",
   "execution_count": 3,
   "metadata": {},
   "outputs": [],
   "source": [
    "a = gomoku.GomokuBoard()\n",
    "b = RandomAI()"
   ]
  },
  {
   "cell_type": "code",
   "execution_count": 4,
   "metadata": {},
   "outputs": [
    {
     "data": {
      "text/plain": [
       "('black', 58)"
      ]
     },
     "execution_count": 4,
     "metadata": {},
     "output_type": "execute_result"
    }
   ],
   "source": [
    "b.play(a)"
   ]
  },
  {
   "cell_type": "code",
   "execution_count": null,
   "metadata": {},
   "outputs": [],
   "source": []
  }
 ],
 "metadata": {
  "kernelspec": {
   "display_name": "Python 3",
   "language": "python",
   "name": "python3"
  },
  "language_info": {
   "codemirror_mode": {
    "name": "ipython",
    "version": 3
   },
   "file_extension": ".py",
   "mimetype": "text/x-python",
   "name": "python",
   "nbconvert_exporter": "python",
   "pygments_lexer": "ipython3",
   "version": "3.7.3"
  }
 },
 "nbformat": 4,
 "nbformat_minor": 2
}
